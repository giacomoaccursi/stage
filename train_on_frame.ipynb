{
  "nbformat": 4,
  "nbformat_minor": 0,
  "metadata": {
    "colab": {
      "name": "train_on_frame.ipynb",
      "provenance": [],
      "authorship_tag": "ABX9TyOsloUINZUH9qzBYEsv+cMf",
      "include_colab_link": true
    },
    "kernelspec": {
      "display_name": "Python 3",
      "name": "python3"
    },
    "language_info": {
      "name": "python"
    }
  },
  "cells": [
    {
      "cell_type": "markdown",
      "metadata": {
        "id": "view-in-github",
        "colab_type": "text"
      },
      "source": [
        "<a href=\"https://colab.research.google.com/github/giacomoaccursi/Tirocinio/blob/main/train_on_frame.ipynb\" target=\"_parent\"><img src=\"https://colab.research.google.com/assets/colab-badge.svg\" alt=\"Open In Colab\"/></a>"
      ]
    },
    {
      "cell_type": "code",
      "metadata": {
        "colab": {
          "base_uri": "https://localhost:8080/"
        },
        "id": "9Q1b2kSohKm-",
        "outputId": "25ebfbdc-5b1e-4606-c977-0b1532514bdb"
      },
      "source": [
        "!git clone https://github.com/giacomoaccursi/Tirocinio.git"
      ],
      "execution_count": null,
      "outputs": [
        {
          "output_type": "stream",
          "text": [
            "Cloning into 'Tirocinio'...\n",
            "remote: Enumerating objects: 16840, done.\u001b[K\n",
            "remote: Counting objects: 100% (16840/16840), done.\u001b[K\n",
            "remote: Compressing objects: 100% (16833/16833), done.\u001b[K\n",
            "remote: Total 16840 (delta 5), reused 16829 (delta 4), pack-reused 0\u001b[K\n",
            "Receiving objects: 100% (16840/16840), 7.03 MiB | 10.90 MiB/s, done.\n",
            "Resolving deltas: 100% (5/5), done.\n"
          ],
          "name": "stdout"
        }
      ]
    },
    {
      "cell_type": "code",
      "metadata": {
        "id": "qIkFKr-2Km0B"
      },
      "source": [
        "import json\n",
        "import numpy as np\n",
        "import pandas as pd"
      ],
      "execution_count": null,
      "outputs": []
    },
    {
      "cell_type": "code",
      "metadata": {
        "id": "gFryVgFP4j1f"
      },
      "source": [
        "from os import listdir\n",
        "from os.path import isfile, join\n",
        "#lista tutti i file dato un percorso\n",
        "def list_all_files(input_path):\n",
        "  files = [join(input_path, f) for f in listdir(input_path) if isfile(join(input_path, f))]\n",
        "  return list(zip(files, listdir(input_path)))\n",
        "\n",
        "def list_all_in_dir(input_path):\n",
        "  files = [join(input_path, f) for f in listdir(input_path)]\n",
        "  return files"
      ],
      "execution_count": null,
      "outputs": []
    },
    {
      "cell_type": "code",
      "metadata": {
        "id": "npZ6VUZHK39U"
      },
      "source": [
        "#estrae i dati dal file json\n",
        "def extract_json_detection(file):\n",
        "  with open(file, 'r') as f:\n",
        "    data = json.load(f)\n",
        "    data = data[\"people\"][0][\"pose_keypoints_2d\"]\n",
        "  return data"
      ],
      "execution_count": null,
      "outputs": []
    },
    {
      "cell_type": "code",
      "metadata": {
        "id": "BWMFpkbSA6KB"
      },
      "source": [
        "def coordinate_from_data(data): \n",
        "  del data[2:75:3] \n",
        "  new_data = [ [data[i], data[i+1]] for i in range(0, len(data), 2)]\n",
        "  return new_data"
      ],
      "execution_count": null,
      "outputs": []
    },
    {
      "cell_type": "code",
      "metadata": {
        "id": "iVj0mut_K-6P"
      },
      "source": [
        "keypoints = np.arange(0, 25)\n",
        "matrix = []"
      ],
      "execution_count": null,
      "outputs": []
    },
    {
      "cell_type": "code",
      "metadata": {
        "id": "XIr6i3xBAfRh"
      },
      "source": [
        "outputs = sorted(list_all_in_dir(\"/content/Tirocinio/video_output\"))\n",
        "for output in outputs:\n",
        "  print(output)\n",
        "  files = sorted(list_all_files(output))\n",
        "  for file in files: \n",
        "    data = coordinate_from_data(extract_json_detection(file[0]))\n",
        "    matrix.append(data)\n",
        "\n"
      ],
      "execution_count": null,
      "outputs": []
    },
    {
      "cell_type": "code",
      "metadata": {
        "id": "YZe850JDiwSG"
      },
      "source": [
        "labels = []\n",
        "for output in outputs: \n",
        "  for file in sorted(list_all_files(output)):\n",
        "    labels.append((file[1].split(\"_\"))[2])"
      ],
      "execution_count": null,
      "outputs": []
    },
    {
      "cell_type": "code",
      "metadata": {
        "id": "-yE5BaBWt5aj"
      },
      "source": [
        "matrix = np.array(matrix)\n",
        "labels = np.array(labels)"
      ],
      "execution_count": null,
      "outputs": []
    },
    {
      "cell_type": "code",
      "metadata": {
        "id": "LkuXvd5PkMEL"
      },
      "source": [
        "from tensorflow.keras.utils import to_categorical\n",
        "labels = to_categorical(labels)"
      ],
      "execution_count": null,
      "outputs": []
    },
    {
      "cell_type": "code",
      "metadata": {
        "id": "wa6jexMSllyJ"
      },
      "source": [
        "from sklearn.model_selection import train_test_split\n",
        "\n",
        "(X_train, X_test, y_train, y_test) = train_test_split(matrix, labels,\n",
        "\ttest_size=0.25, stratify=labels, random_state=42)"
      ],
      "execution_count": null,
      "outputs": []
    },
    {
      "cell_type": "code",
      "metadata": {
        "id": "ykS7i8iupklB"
      },
      "source": [
        "from tensorflow.keras.models import Sequential\n",
        "from tensorflow.keras.layers import Dense, Flatten, Conv1D\n",
        "\n",
        "model = Sequential([\n",
        "                    Conv1D(16, 15, input_shape=(X_train.shape[1], X_train.shape[2])), \n",
        "                    Flatten(), \n",
        "                    Dense(128, activation = \"relu\"), \n",
        "                    Dense(128, activation = \"relu\"), \n",
        "                    Dense(128, activation = \"relu\"), \n",
        "                    Dense(y_train.shape[1], activation = \"softmax\")\n",
        "])"
      ],
      "execution_count": null,
      "outputs": []
    },
    {
      "cell_type": "code",
      "metadata": {
        "id": "eIsC2H7krS0U"
      },
      "source": [
        "model.compile(loss=\"binary_crossentropy\", optimizer=\"adam\", metrics=[\"accuracy\"])"
      ],
      "execution_count": null,
      "outputs": []
    },
    {
      "cell_type": "code",
      "metadata": {
        "colab": {
          "base_uri": "https://localhost:8080/"
        },
        "id": "OwdhuzPhro9J",
        "outputId": "93a0a972-d2e8-4785-c1c8-426741b7fd8b"
      },
      "source": [
        "H = model.fit(X_train, y_train, epochs=100, batch_size=20,validation_data=(X_test, y_test) )"
      ],
      "execution_count": null,
      "outputs": [
        {
          "output_type": "stream",
          "text": [
            "Epoch 1/100\n",
            "642/642 [==============================] - 2s 3ms/step - loss: 3.8784 - accuracy: 0.6743 - val_loss: 0.3489 - val_accuracy: 0.8534\n",
            "Epoch 2/100\n",
            "642/642 [==============================] - 2s 2ms/step - loss: 0.3752 - accuracy: 0.8607 - val_loss: 0.3069 - val_accuracy: 0.8698\n",
            "Epoch 3/100\n",
            "642/642 [==============================] - 2s 2ms/step - loss: 0.2859 - accuracy: 0.8895 - val_loss: 0.2060 - val_accuracy: 0.9324\n",
            "Epoch 4/100\n",
            "642/642 [==============================] - 2s 2ms/step - loss: 0.2681 - accuracy: 0.8984 - val_loss: 0.2397 - val_accuracy: 0.9095\n",
            "Epoch 5/100\n",
            "642/642 [==============================] - 2s 2ms/step - loss: 0.2417 - accuracy: 0.9048 - val_loss: 0.1905 - val_accuracy: 0.9306\n",
            "Epoch 6/100\n",
            "642/642 [==============================] - 2s 2ms/step - loss: 0.2205 - accuracy: 0.9152 - val_loss: 0.3151 - val_accuracy: 0.8796\n",
            "Epoch 7/100\n",
            "642/642 [==============================] - 2s 2ms/step - loss: 0.2327 - accuracy: 0.9126 - val_loss: 0.1666 - val_accuracy: 0.9472\n",
            "Epoch 8/100\n",
            "642/642 [==============================] - 2s 2ms/step - loss: 0.1840 - accuracy: 0.9306 - val_loss: 0.1811 - val_accuracy: 0.9294\n",
            "Epoch 9/100\n",
            "642/642 [==============================] - 2s 2ms/step - loss: 0.1836 - accuracy: 0.9338 - val_loss: 0.1248 - val_accuracy: 0.9563\n",
            "Epoch 10/100\n",
            "642/642 [==============================] - 2s 2ms/step - loss: 0.1542 - accuracy: 0.9432 - val_loss: 0.2364 - val_accuracy: 0.9114\n",
            "Epoch 11/100\n",
            "642/642 [==============================] - 2s 2ms/step - loss: 0.1621 - accuracy: 0.9382 - val_loss: 0.1704 - val_accuracy: 0.9395\n",
            "Epoch 12/100\n",
            "642/642 [==============================] - 2s 2ms/step - loss: 0.1706 - accuracy: 0.9353 - val_loss: 0.1495 - val_accuracy: 0.9465\n",
            "Epoch 13/100\n",
            "642/642 [==============================] - 2s 2ms/step - loss: 0.1356 - accuracy: 0.9478 - val_loss: 0.1700 - val_accuracy: 0.9392\n",
            "Epoch 14/100\n",
            "642/642 [==============================] - 2s 2ms/step - loss: 0.1409 - accuracy: 0.9469 - val_loss: 0.1194 - val_accuracy: 0.9647\n",
            "Epoch 15/100\n",
            "642/642 [==============================] - 2s 2ms/step - loss: 0.1350 - accuracy: 0.9531 - val_loss: 0.1444 - val_accuracy: 0.9495\n",
            "Epoch 16/100\n",
            "642/642 [==============================] - 2s 2ms/step - loss: 0.1266 - accuracy: 0.9533 - val_loss: 0.1484 - val_accuracy: 0.9516\n",
            "Epoch 17/100\n",
            "642/642 [==============================] - 2s 2ms/step - loss: 0.1194 - accuracy: 0.9553 - val_loss: 0.1072 - val_accuracy: 0.9584\n",
            "Epoch 18/100\n",
            "642/642 [==============================] - 2s 2ms/step - loss: 0.1189 - accuracy: 0.9580 - val_loss: 0.1516 - val_accuracy: 0.9444\n",
            "Epoch 19/100\n",
            "642/642 [==============================] - 2s 2ms/step - loss: 0.1005 - accuracy: 0.9623 - val_loss: 0.0930 - val_accuracy: 0.9687\n",
            "Epoch 20/100\n",
            "642/642 [==============================] - 2s 2ms/step - loss: 0.0955 - accuracy: 0.9632 - val_loss: 0.0962 - val_accuracy: 0.9659\n",
            "Epoch 21/100\n",
            "642/642 [==============================] - 2s 2ms/step - loss: 0.1150 - accuracy: 0.9552 - val_loss: 0.1094 - val_accuracy: 0.9591\n",
            "Epoch 22/100\n",
            "642/642 [==============================] - 2s 2ms/step - loss: 0.1021 - accuracy: 0.9618 - val_loss: 0.0987 - val_accuracy: 0.9600\n",
            "Epoch 23/100\n",
            "642/642 [==============================] - 2s 2ms/step - loss: 0.0912 - accuracy: 0.9668 - val_loss: 0.0986 - val_accuracy: 0.9649\n",
            "Epoch 24/100\n",
            "642/642 [==============================] - 2s 3ms/step - loss: 0.0859 - accuracy: 0.9650 - val_loss: 0.1026 - val_accuracy: 0.9659\n",
            "Epoch 25/100\n",
            "642/642 [==============================] - 2s 2ms/step - loss: 0.0970 - accuracy: 0.9646 - val_loss: 0.1114 - val_accuracy: 0.9572\n",
            "Epoch 26/100\n",
            "642/642 [==============================] - 2s 2ms/step - loss: 0.0822 - accuracy: 0.9674 - val_loss: 0.0755 - val_accuracy: 0.9708\n",
            "Epoch 27/100\n",
            "642/642 [==============================] - 2s 2ms/step - loss: 0.0810 - accuracy: 0.9698 - val_loss: 0.0841 - val_accuracy: 0.9741\n",
            "Epoch 28/100\n",
            "642/642 [==============================] - 2s 2ms/step - loss: 0.0830 - accuracy: 0.9682 - val_loss: 0.1208 - val_accuracy: 0.9593\n",
            "Epoch 29/100\n",
            "642/642 [==============================] - 2s 2ms/step - loss: 0.0755 - accuracy: 0.9721 - val_loss: 0.1111 - val_accuracy: 0.9577\n",
            "Epoch 30/100\n",
            "642/642 [==============================] - 2s 2ms/step - loss: 0.0997 - accuracy: 0.9629 - val_loss: 0.1327 - val_accuracy: 0.9514\n",
            "Epoch 31/100\n",
            "642/642 [==============================] - 2s 2ms/step - loss: 0.0851 - accuracy: 0.9678 - val_loss: 0.0695 - val_accuracy: 0.9736\n",
            "Epoch 32/100\n",
            "642/642 [==============================] - 2s 2ms/step - loss: 0.0738 - accuracy: 0.9699 - val_loss: 0.0946 - val_accuracy: 0.9684\n",
            "Epoch 33/100\n",
            "642/642 [==============================] - 2s 3ms/step - loss: 0.0832 - accuracy: 0.9672 - val_loss: 0.0761 - val_accuracy: 0.9743\n",
            "Epoch 34/100\n",
            "642/642 [==============================] - 2s 2ms/step - loss: 0.1021 - accuracy: 0.9643 - val_loss: 0.1083 - val_accuracy: 0.9654\n",
            "Epoch 35/100\n",
            "642/642 [==============================] - 2s 2ms/step - loss: 0.0678 - accuracy: 0.9767 - val_loss: 0.0747 - val_accuracy: 0.9724\n",
            "Epoch 36/100\n",
            "642/642 [==============================] - 2s 2ms/step - loss: 0.0741 - accuracy: 0.9725 - val_loss: 0.0857 - val_accuracy: 0.9701\n",
            "Epoch 37/100\n",
            "642/642 [==============================] - 2s 2ms/step - loss: 0.0549 - accuracy: 0.9795 - val_loss: 0.1013 - val_accuracy: 0.9663\n",
            "Epoch 38/100\n",
            "642/642 [==============================] - 2s 3ms/step - loss: 0.0719 - accuracy: 0.9738 - val_loss: 0.0955 - val_accuracy: 0.9701\n",
            "Epoch 39/100\n",
            "642/642 [==============================] - 2s 3ms/step - loss: 0.0676 - accuracy: 0.9748 - val_loss: 0.0824 - val_accuracy: 0.9719\n",
            "Epoch 40/100\n",
            "642/642 [==============================] - 2s 2ms/step - loss: 0.0617 - accuracy: 0.9760 - val_loss: 0.0577 - val_accuracy: 0.9799\n",
            "Epoch 41/100\n",
            "642/642 [==============================] - 2s 2ms/step - loss: 0.0531 - accuracy: 0.9796 - val_loss: 0.0800 - val_accuracy: 0.9769\n",
            "Epoch 42/100\n",
            "642/642 [==============================] - 2s 2ms/step - loss: 0.0591 - accuracy: 0.9756 - val_loss: 0.1225 - val_accuracy: 0.9684\n",
            "Epoch 43/100\n",
            "642/642 [==============================] - 2s 2ms/step - loss: 0.0714 - accuracy: 0.9766 - val_loss: 0.0711 - val_accuracy: 0.9769\n",
            "Epoch 44/100\n",
            "642/642 [==============================] - 2s 2ms/step - loss: 0.0537 - accuracy: 0.9790 - val_loss: 0.0930 - val_accuracy: 0.9708\n",
            "Epoch 45/100\n",
            "642/642 [==============================] - 2s 2ms/step - loss: 0.0651 - accuracy: 0.9736 - val_loss: 0.0812 - val_accuracy: 0.9743\n",
            "Epoch 46/100\n",
            "642/642 [==============================] - 2s 2ms/step - loss: 0.0546 - accuracy: 0.9794 - val_loss: 0.0606 - val_accuracy: 0.9820\n",
            "Epoch 47/100\n",
            "642/642 [==============================] - 2s 3ms/step - loss: 0.0564 - accuracy: 0.9781 - val_loss: 0.1080 - val_accuracy: 0.9642\n",
            "Epoch 48/100\n",
            "642/642 [==============================] - 2s 2ms/step - loss: 0.0605 - accuracy: 0.9779 - val_loss: 0.0784 - val_accuracy: 0.9738\n",
            "Epoch 49/100\n",
            "642/642 [==============================] - 2s 2ms/step - loss: 0.0608 - accuracy: 0.9777 - val_loss: 0.1052 - val_accuracy: 0.9731\n",
            "Epoch 50/100\n",
            "642/642 [==============================] - 2s 3ms/step - loss: 0.0644 - accuracy: 0.9766 - val_loss: 0.1593 - val_accuracy: 0.9497\n",
            "Epoch 51/100\n",
            "642/642 [==============================] - 2s 2ms/step - loss: 0.0477 - accuracy: 0.9836 - val_loss: 0.0805 - val_accuracy: 0.9752\n",
            "Epoch 52/100\n",
            "642/642 [==============================] - 2s 2ms/step - loss: 0.0482 - accuracy: 0.9803 - val_loss: 0.0897 - val_accuracy: 0.9771\n",
            "Epoch 53/100\n",
            "642/642 [==============================] - 2s 2ms/step - loss: 0.0581 - accuracy: 0.9800 - val_loss: 0.0734 - val_accuracy: 0.9778\n",
            "Epoch 54/100\n",
            "642/642 [==============================] - 2s 2ms/step - loss: 0.0625 - accuracy: 0.9759 - val_loss: 0.0716 - val_accuracy: 0.9783\n",
            "Epoch 55/100\n",
            "642/642 [==============================] - 2s 2ms/step - loss: 0.0547 - accuracy: 0.9802 - val_loss: 0.1010 - val_accuracy: 0.9708\n",
            "Epoch 56/100\n",
            "642/642 [==============================] - 2s 2ms/step - loss: 0.0565 - accuracy: 0.9790 - val_loss: 0.1032 - val_accuracy: 0.9701\n",
            "Epoch 57/100\n",
            "642/642 [==============================] - 2s 2ms/step - loss: 0.0607 - accuracy: 0.9811 - val_loss: 0.1082 - val_accuracy: 0.9642\n",
            "Epoch 58/100\n",
            "642/642 [==============================] - 2s 2ms/step - loss: 0.0497 - accuracy: 0.9810 - val_loss: 0.0661 - val_accuracy: 0.9839\n",
            "Epoch 59/100\n",
            "642/642 [==============================] - 2s 2ms/step - loss: 0.0550 - accuracy: 0.9791 - val_loss: 0.0584 - val_accuracy: 0.9822\n",
            "Epoch 60/100\n",
            "642/642 [==============================] - 2s 2ms/step - loss: 0.0475 - accuracy: 0.9828 - val_loss: 0.1077 - val_accuracy: 0.9673\n",
            "Epoch 61/100\n",
            "642/642 [==============================] - 2s 2ms/step - loss: 0.0654 - accuracy: 0.9757 - val_loss: 0.1138 - val_accuracy: 0.9659\n",
            "Epoch 62/100\n",
            "642/642 [==============================] - 2s 2ms/step - loss: 0.0530 - accuracy: 0.9814 - val_loss: 0.1151 - val_accuracy: 0.9696\n",
            "Epoch 63/100\n",
            "642/642 [==============================] - 2s 2ms/step - loss: 0.0496 - accuracy: 0.9830 - val_loss: 0.0825 - val_accuracy: 0.9691\n",
            "Epoch 64/100\n",
            "642/642 [==============================] - 2s 2ms/step - loss: 0.0423 - accuracy: 0.9840 - val_loss: 0.1029 - val_accuracy: 0.9645\n",
            "Epoch 65/100\n",
            "642/642 [==============================] - 2s 2ms/step - loss: 0.0746 - accuracy: 0.9705 - val_loss: 0.0635 - val_accuracy: 0.9808\n",
            "Epoch 66/100\n",
            "642/642 [==============================] - 2s 3ms/step - loss: 0.0476 - accuracy: 0.9820 - val_loss: 0.0672 - val_accuracy: 0.9808\n",
            "Epoch 67/100\n",
            "642/642 [==============================] - 2s 2ms/step - loss: 0.0519 - accuracy: 0.9825 - val_loss: 0.0891 - val_accuracy: 0.9670\n",
            "Epoch 68/100\n",
            "642/642 [==============================] - 2s 2ms/step - loss: 0.0404 - accuracy: 0.9828 - val_loss: 0.0930 - val_accuracy: 0.9675\n",
            "Epoch 69/100\n",
            "642/642 [==============================] - 2s 2ms/step - loss: 0.0542 - accuracy: 0.9787 - val_loss: 0.0726 - val_accuracy: 0.9773\n",
            "Epoch 70/100\n",
            "642/642 [==============================] - 2s 2ms/step - loss: 0.0394 - accuracy: 0.9838 - val_loss: 0.0855 - val_accuracy: 0.9792\n",
            "Epoch 71/100\n",
            "642/642 [==============================] - 2s 3ms/step - loss: 0.0534 - accuracy: 0.9806 - val_loss: 0.0615 - val_accuracy: 0.9797\n",
            "Epoch 72/100\n",
            "642/642 [==============================] - 2s 2ms/step - loss: 0.0431 - accuracy: 0.9835 - val_loss: 0.0705 - val_accuracy: 0.9797\n",
            "Epoch 73/100\n",
            "642/642 [==============================] - 2s 3ms/step - loss: 0.0521 - accuracy: 0.9829 - val_loss: 0.0741 - val_accuracy: 0.9787\n",
            "Epoch 74/100\n",
            "642/642 [==============================] - 2s 2ms/step - loss: 0.0385 - accuracy: 0.9854 - val_loss: 0.0846 - val_accuracy: 0.9778\n",
            "Epoch 75/100\n",
            "642/642 [==============================] - 2s 2ms/step - loss: 0.0430 - accuracy: 0.9827 - val_loss: 0.1427 - val_accuracy: 0.9750\n",
            "Epoch 76/100\n",
            "642/642 [==============================] - 2s 2ms/step - loss: 0.0484 - accuracy: 0.9812 - val_loss: 0.0834 - val_accuracy: 0.9719\n",
            "Epoch 77/100\n",
            "642/642 [==============================] - 2s 2ms/step - loss: 0.0481 - accuracy: 0.9827 - val_loss: 0.0967 - val_accuracy: 0.9764\n",
            "Epoch 78/100\n",
            "642/642 [==============================] - 2s 2ms/step - loss: 0.0488 - accuracy: 0.9814 - val_loss: 0.1267 - val_accuracy: 0.9638\n",
            "Epoch 79/100\n",
            "642/642 [==============================] - 2s 2ms/step - loss: 0.0499 - accuracy: 0.9810 - val_loss: 0.0808 - val_accuracy: 0.9808\n",
            "Epoch 80/100\n",
            "642/642 [==============================] - 2s 2ms/step - loss: 0.0431 - accuracy: 0.9834 - val_loss: 0.0838 - val_accuracy: 0.9773\n",
            "Epoch 81/100\n",
            "642/642 [==============================] - 2s 3ms/step - loss: 0.0416 - accuracy: 0.9860 - val_loss: 0.0801 - val_accuracy: 0.9832\n",
            "Epoch 82/100\n",
            "642/642 [==============================] - 2s 2ms/step - loss: 0.0491 - accuracy: 0.9855 - val_loss: 0.1186 - val_accuracy: 0.9708\n",
            "Epoch 83/100\n",
            "642/642 [==============================] - 2s 2ms/step - loss: 0.0435 - accuracy: 0.9834 - val_loss: 0.0839 - val_accuracy: 0.9839\n",
            "Epoch 84/100\n",
            "642/642 [==============================] - 2s 2ms/step - loss: 0.0381 - accuracy: 0.9838 - val_loss: 0.0890 - val_accuracy: 0.9736\n",
            "Epoch 85/100\n",
            "642/642 [==============================] - 2s 2ms/step - loss: 0.0402 - accuracy: 0.9849 - val_loss: 0.1660 - val_accuracy: 0.9523\n",
            "Epoch 86/100\n",
            "642/642 [==============================] - 2s 2ms/step - loss: 0.0400 - accuracy: 0.9853 - val_loss: 0.0860 - val_accuracy: 0.9790\n",
            "Epoch 87/100\n",
            "642/642 [==============================] - 2s 2ms/step - loss: 0.0425 - accuracy: 0.9812 - val_loss: 0.1482 - val_accuracy: 0.9649\n",
            "Epoch 88/100\n",
            "642/642 [==============================] - 2s 3ms/step - loss: 0.0452 - accuracy: 0.9810 - val_loss: 0.1461 - val_accuracy: 0.9712\n",
            "Epoch 89/100\n",
            "642/642 [==============================] - 2s 2ms/step - loss: 0.0630 - accuracy: 0.9767 - val_loss: 0.0729 - val_accuracy: 0.9799\n",
            "Epoch 90/100\n",
            "642/642 [==============================] - 2s 2ms/step - loss: 0.0382 - accuracy: 0.9841 - val_loss: 0.1230 - val_accuracy: 0.9684\n",
            "Epoch 91/100\n",
            "642/642 [==============================] - 2s 3ms/step - loss: 0.0329 - accuracy: 0.9854 - val_loss: 0.0775 - val_accuracy: 0.9836\n",
            "Epoch 92/100\n",
            "642/642 [==============================] - 2s 2ms/step - loss: 0.0297 - accuracy: 0.9868 - val_loss: 0.0998 - val_accuracy: 0.9790\n",
            "Epoch 93/100\n",
            "642/642 [==============================] - 2s 3ms/step - loss: 0.0365 - accuracy: 0.9850 - val_loss: 0.0840 - val_accuracy: 0.9846\n",
            "Epoch 94/100\n",
            "642/642 [==============================] - 2s 3ms/step - loss: 0.0421 - accuracy: 0.9828 - val_loss: 0.1021 - val_accuracy: 0.9780\n",
            "Epoch 95/100\n",
            "642/642 [==============================] - 2s 2ms/step - loss: 0.0352 - accuracy: 0.9873 - val_loss: 0.1821 - val_accuracy: 0.9717\n",
            "Epoch 96/100\n",
            "642/642 [==============================] - 2s 3ms/step - loss: 0.1748 - accuracy: 0.9582 - val_loss: 0.0899 - val_accuracy: 0.9750\n",
            "Epoch 97/100\n",
            "642/642 [==============================] - 2s 2ms/step - loss: 0.0442 - accuracy: 0.9833 - val_loss: 0.0779 - val_accuracy: 0.9862\n",
            "Epoch 98/100\n",
            "642/642 [==============================] - 2s 2ms/step - loss: 0.0361 - accuracy: 0.9864 - val_loss: 0.0983 - val_accuracy: 0.9752\n",
            "Epoch 99/100\n",
            "642/642 [==============================] - 2s 2ms/step - loss: 0.0401 - accuracy: 0.9841 - val_loss: 0.1019 - val_accuracy: 0.9832\n",
            "Epoch 100/100\n",
            "642/642 [==============================] - 2s 3ms/step - loss: 0.0351 - accuracy: 0.9887 - val_loss: 0.1319 - val_accuracy: 0.9748\n"
          ],
          "name": "stdout"
        }
      ]
    },
    {
      "cell_type": "code",
      "metadata": {
        "colab": {
          "base_uri": "https://localhost:8080/"
        },
        "id": "W6YhKEWer0rY",
        "outputId": "802019a4-b3c3-4605-a963-f82cf3efc341"
      },
      "source": [
        "model.evaluate(X_test, y_test)"
      ],
      "execution_count": null,
      "outputs": [
        {
          "output_type": "stream",
          "text": [
            "134/134 [==============================] - 0s 1ms/step - loss: 0.1319 - accuracy: 0.9748\n"
          ],
          "name": "stdout"
        },
        {
          "output_type": "execute_result",
          "data": {
            "text/plain": [
              "[0.13193227350711823, 0.9747545719146729]"
            ]
          },
          "metadata": {
            "tags": []
          },
          "execution_count": 45
        }
      ]
    },
    {
      "cell_type": "code",
      "metadata": {
        "id": "QYtDX1Y4jNeS"
      },
      "source": [
        "from sklearn.preprocessing import StandardScaler\n",
        "scaler = StandardScaler()\n",
        "X_train_scaled = scaler.fit_transform(X_train.reshape(-1, X_train.shape[-1])).reshape(X_train.shape)\n",
        "X_test_scaled = scaler.transform(X_test.reshape(-1, X_test.shape[-1])).reshape(X_test.shape)"
      ],
      "execution_count": null,
      "outputs": []
    },
    {
      "cell_type": "code",
      "metadata": {
        "id": "zFvqp6AKjWdJ"
      },
      "source": [
        "model_scaled = Sequential([\n",
        "                    Conv1D(16, 15, input_shape=(X_train.shape[1], X_train.shape[2])), \n",
        "                    Flatten(), \n",
        "                    Dense(128, activation = \"relu\"), \n",
        "                    Dense(128, activation = \"relu\"), \n",
        "                    Dense(128, activation = \"relu\"), \n",
        "                    Dense(y_train.shape[1], activation = \"softmax\")\n",
        "])"
      ],
      "execution_count": null,
      "outputs": []
    },
    {
      "cell_type": "code",
      "metadata": {
        "id": "DO6zzLUejYDC"
      },
      "source": [
        "model_scaled.compile(loss=\"binary_crossentropy\", optimizer=\"adam\", metrics=[\"accuracy\"])"
      ],
      "execution_count": null,
      "outputs": []
    },
    {
      "cell_type": "code",
      "metadata": {
        "colab": {
          "base_uri": "https://localhost:8080/"
        },
        "id": "X4tDBZqCjZqx",
        "outputId": "f59f6899-c518-4913-8571-b4209f6474b4"
      },
      "source": [
        "H_scaled = model_scaled.fit(X_train_scaled, y_train, epochs=100, batch_size=20,validation_data=(X_test_scaled, y_test) )"
      ],
      "execution_count": null,
      "outputs": [
        {
          "output_type": "stream",
          "text": [
            "Epoch 1/100\n",
            "642/642 [==============================] - 2s 3ms/step - loss: 0.6076 - accuracy: 0.6408 - val_loss: 0.2258 - val_accuracy: 0.9107\n",
            "Epoch 2/100\n",
            "642/642 [==============================] - 2s 2ms/step - loss: 0.2406 - accuracy: 0.9034 - val_loss: 0.1785 - val_accuracy: 0.9306\n",
            "Epoch 3/100\n",
            "642/642 [==============================] - 2s 2ms/step - loss: 0.1850 - accuracy: 0.9255 - val_loss: 0.1560 - val_accuracy: 0.9371\n",
            "Epoch 4/100\n",
            "642/642 [==============================] - 1s 2ms/step - loss: 0.1567 - accuracy: 0.9357 - val_loss: 0.1494 - val_accuracy: 0.9371\n",
            "Epoch 5/100\n",
            "642/642 [==============================] - 2s 2ms/step - loss: 0.1341 - accuracy: 0.9469 - val_loss: 0.0955 - val_accuracy: 0.9687\n",
            "Epoch 6/100\n",
            "642/642 [==============================] - 2s 2ms/step - loss: 0.1254 - accuracy: 0.9506 - val_loss: 0.3312 - val_accuracy: 0.8946\n",
            "Epoch 7/100\n",
            "642/642 [==============================] - 2s 2ms/step - loss: 0.1251 - accuracy: 0.9539 - val_loss: 0.1014 - val_accuracy: 0.9596\n",
            "Epoch 8/100\n",
            "642/642 [==============================] - 2s 2ms/step - loss: 0.1036 - accuracy: 0.9598 - val_loss: 0.0884 - val_accuracy: 0.9698\n",
            "Epoch 9/100\n",
            "642/642 [==============================] - 2s 2ms/step - loss: 0.0959 - accuracy: 0.9640 - val_loss: 0.0876 - val_accuracy: 0.9694\n",
            "Epoch 10/100\n",
            "642/642 [==============================] - 2s 2ms/step - loss: 0.0915 - accuracy: 0.9646 - val_loss: 0.0769 - val_accuracy: 0.9729\n",
            "Epoch 11/100\n",
            "642/642 [==============================] - 2s 2ms/step - loss: 0.0910 - accuracy: 0.9662 - val_loss: 0.1041 - val_accuracy: 0.9647\n",
            "Epoch 12/100\n",
            "642/642 [==============================] - 2s 2ms/step - loss: 0.0760 - accuracy: 0.9713 - val_loss: 0.1239 - val_accuracy: 0.9556\n",
            "Epoch 13/100\n",
            "642/642 [==============================] - 2s 2ms/step - loss: 0.0749 - accuracy: 0.9708 - val_loss: 0.0974 - val_accuracy: 0.9649\n",
            "Epoch 14/100\n",
            "642/642 [==============================] - 2s 2ms/step - loss: 0.0690 - accuracy: 0.9733 - val_loss: 0.0600 - val_accuracy: 0.9811\n",
            "Epoch 15/100\n",
            "642/642 [==============================] - 2s 2ms/step - loss: 0.0656 - accuracy: 0.9721 - val_loss: 0.0666 - val_accuracy: 0.9773\n",
            "Epoch 16/100\n",
            "642/642 [==============================] - 2s 2ms/step - loss: 0.0754 - accuracy: 0.9718 - val_loss: 0.1094 - val_accuracy: 0.9668\n",
            "Epoch 17/100\n",
            "642/642 [==============================] - 2s 2ms/step - loss: 0.0731 - accuracy: 0.9735 - val_loss: 0.0660 - val_accuracy: 0.9778\n",
            "Epoch 18/100\n",
            "642/642 [==============================] - 2s 2ms/step - loss: 0.0569 - accuracy: 0.9790 - val_loss: 0.1385 - val_accuracy: 0.9600\n",
            "Epoch 19/100\n",
            "642/642 [==============================] - 2s 2ms/step - loss: 0.0643 - accuracy: 0.9779 - val_loss: 0.0902 - val_accuracy: 0.9731\n",
            "Epoch 20/100\n",
            "642/642 [==============================] - 2s 2ms/step - loss: 0.0598 - accuracy: 0.9781 - val_loss: 0.0768 - val_accuracy: 0.9766\n",
            "Epoch 21/100\n",
            "642/642 [==============================] - 2s 2ms/step - loss: 0.0711 - accuracy: 0.9718 - val_loss: 0.0727 - val_accuracy: 0.9778\n",
            "Epoch 22/100\n",
            "642/642 [==============================] - 2s 2ms/step - loss: 0.0531 - accuracy: 0.9793 - val_loss: 0.0846 - val_accuracy: 0.9708\n",
            "Epoch 23/100\n",
            "642/642 [==============================] - 2s 2ms/step - loss: 0.0543 - accuracy: 0.9776 - val_loss: 0.0784 - val_accuracy: 0.9752\n",
            "Epoch 24/100\n",
            "642/642 [==============================] - 2s 2ms/step - loss: 0.0484 - accuracy: 0.9808 - val_loss: 0.0861 - val_accuracy: 0.9741\n",
            "Epoch 25/100\n",
            "642/642 [==============================] - 1s 2ms/step - loss: 0.0532 - accuracy: 0.9810 - val_loss: 0.0656 - val_accuracy: 0.9820\n",
            "Epoch 26/100\n",
            "642/642 [==============================] - 2s 2ms/step - loss: 0.0463 - accuracy: 0.9826 - val_loss: 0.0764 - val_accuracy: 0.9771\n",
            "Epoch 27/100\n",
            "642/642 [==============================] - 2s 2ms/step - loss: 0.0368 - accuracy: 0.9861 - val_loss: 0.0793 - val_accuracy: 0.9792\n",
            "Epoch 28/100\n",
            "642/642 [==============================] - 2s 2ms/step - loss: 0.0443 - accuracy: 0.9836 - val_loss: 0.0860 - val_accuracy: 0.9729\n",
            "Epoch 29/100\n",
            "642/642 [==============================] - 2s 2ms/step - loss: 0.0477 - accuracy: 0.9804 - val_loss: 0.1043 - val_accuracy: 0.9663\n",
            "Epoch 30/100\n",
            "642/642 [==============================] - 2s 2ms/step - loss: 0.0410 - accuracy: 0.9876 - val_loss: 0.0736 - val_accuracy: 0.9813\n",
            "Epoch 31/100\n",
            "642/642 [==============================] - 2s 2ms/step - loss: 0.0469 - accuracy: 0.9839 - val_loss: 0.0943 - val_accuracy: 0.9736\n",
            "Epoch 32/100\n",
            "642/642 [==============================] - 2s 3ms/step - loss: 0.0466 - accuracy: 0.9838 - val_loss: 0.0674 - val_accuracy: 0.9860\n",
            "Epoch 33/100\n",
            "642/642 [==============================] - 2s 2ms/step - loss: 0.0400 - accuracy: 0.9846 - val_loss: 0.0578 - val_accuracy: 0.9832\n",
            "Epoch 34/100\n",
            "642/642 [==============================] - 2s 2ms/step - loss: 0.0285 - accuracy: 0.9898 - val_loss: 0.1166 - val_accuracy: 0.9577\n",
            "Epoch 35/100\n",
            "642/642 [==============================] - 2s 2ms/step - loss: 0.0490 - accuracy: 0.9810 - val_loss: 0.0619 - val_accuracy: 0.9853\n",
            "Epoch 36/100\n",
            "642/642 [==============================] - 2s 2ms/step - loss: 0.0400 - accuracy: 0.9869 - val_loss: 0.0582 - val_accuracy: 0.9862\n",
            "Epoch 37/100\n",
            "642/642 [==============================] - 1s 2ms/step - loss: 0.0593 - accuracy: 0.9801 - val_loss: 0.0578 - val_accuracy: 0.9869\n",
            "Epoch 38/100\n",
            "642/642 [==============================] - 1s 2ms/step - loss: 0.0382 - accuracy: 0.9873 - val_loss: 0.1046 - val_accuracy: 0.9691\n",
            "Epoch 39/100\n",
            "642/642 [==============================] - 2s 2ms/step - loss: 0.0358 - accuracy: 0.9884 - val_loss: 0.1209 - val_accuracy: 0.9663\n",
            "Epoch 40/100\n",
            "642/642 [==============================] - 2s 2ms/step - loss: 0.0445 - accuracy: 0.9838 - val_loss: 0.0614 - val_accuracy: 0.9860\n",
            "Epoch 41/100\n",
            "642/642 [==============================] - 2s 2ms/step - loss: 0.0323 - accuracy: 0.9890 - val_loss: 0.0715 - val_accuracy: 0.9801\n",
            "Epoch 42/100\n",
            "642/642 [==============================] - 2s 2ms/step - loss: 0.0322 - accuracy: 0.9891 - val_loss: 0.0687 - val_accuracy: 0.9799\n",
            "Epoch 43/100\n",
            "642/642 [==============================] - 2s 2ms/step - loss: 0.0395 - accuracy: 0.9856 - val_loss: 0.0871 - val_accuracy: 0.9727\n",
            "Epoch 44/100\n",
            "642/642 [==============================] - 1s 2ms/step - loss: 0.0310 - accuracy: 0.9883 - val_loss: 0.0634 - val_accuracy: 0.9815\n",
            "Epoch 45/100\n",
            "642/642 [==============================] - 2s 2ms/step - loss: 0.0325 - accuracy: 0.9880 - val_loss: 0.0695 - val_accuracy: 0.9839\n",
            "Epoch 46/100\n",
            "642/642 [==============================] - 2s 2ms/step - loss: 0.0305 - accuracy: 0.9900 - val_loss: 0.0609 - val_accuracy: 0.9878\n",
            "Epoch 47/100\n",
            "642/642 [==============================] - 2s 2ms/step - loss: 0.0285 - accuracy: 0.9895 - val_loss: 0.0598 - val_accuracy: 0.9832\n",
            "Epoch 48/100\n",
            "642/642 [==============================] - 2s 2ms/step - loss: 0.0264 - accuracy: 0.9915 - val_loss: 0.0631 - val_accuracy: 0.9855\n",
            "Epoch 49/100\n",
            "642/642 [==============================] - 2s 2ms/step - loss: 0.0246 - accuracy: 0.9908 - val_loss: 0.0505 - val_accuracy: 0.9881\n",
            "Epoch 50/100\n",
            "642/642 [==============================] - 1s 2ms/step - loss: 0.0259 - accuracy: 0.9914 - val_loss: 0.0619 - val_accuracy: 0.9862\n",
            "Epoch 51/100\n",
            "642/642 [==============================] - 2s 2ms/step - loss: 0.0341 - accuracy: 0.9873 - val_loss: 0.0556 - val_accuracy: 0.9834\n",
            "Epoch 52/100\n",
            "642/642 [==============================] - 2s 2ms/step - loss: 0.0245 - accuracy: 0.9899 - val_loss: 0.0584 - val_accuracy: 0.9867\n",
            "Epoch 53/100\n",
            "642/642 [==============================] - 2s 2ms/step - loss: 0.0247 - accuracy: 0.9925 - val_loss: 0.0591 - val_accuracy: 0.9871\n",
            "Epoch 54/100\n",
            "642/642 [==============================] - 2s 2ms/step - loss: 0.0232 - accuracy: 0.9924 - val_loss: 0.0526 - val_accuracy: 0.9890\n",
            "Epoch 55/100\n",
            "642/642 [==============================] - 2s 2ms/step - loss: 0.0277 - accuracy: 0.9899 - val_loss: 0.0699 - val_accuracy: 0.9881\n",
            "Epoch 56/100\n",
            "642/642 [==============================] - 2s 2ms/step - loss: 0.0220 - accuracy: 0.9930 - val_loss: 0.0861 - val_accuracy: 0.9811\n",
            "Epoch 57/100\n",
            "642/642 [==============================] - 2s 2ms/step - loss: 0.0234 - accuracy: 0.9912 - val_loss: 0.0816 - val_accuracy: 0.9853\n",
            "Epoch 58/100\n",
            "642/642 [==============================] - 2s 2ms/step - loss: 0.0257 - accuracy: 0.9906 - val_loss: 0.0774 - val_accuracy: 0.9794\n",
            "Epoch 59/100\n",
            "642/642 [==============================] - 2s 2ms/step - loss: 0.0319 - accuracy: 0.9889 - val_loss: 0.0597 - val_accuracy: 0.9883\n",
            "Epoch 60/100\n",
            "642/642 [==============================] - 2s 2ms/step - loss: 0.0188 - accuracy: 0.9938 - val_loss: 0.0691 - val_accuracy: 0.9883\n",
            "Epoch 61/100\n",
            "642/642 [==============================] - 2s 2ms/step - loss: 0.0209 - accuracy: 0.9926 - val_loss: 0.1128 - val_accuracy: 0.9696\n",
            "Epoch 62/100\n",
            "642/642 [==============================] - 2s 2ms/step - loss: 0.0225 - accuracy: 0.9903 - val_loss: 0.0765 - val_accuracy: 0.9848\n",
            "Epoch 63/100\n",
            "642/642 [==============================] - 2s 2ms/step - loss: 0.0289 - accuracy: 0.9889 - val_loss: 0.0623 - val_accuracy: 0.9857\n",
            "Epoch 64/100\n",
            "642/642 [==============================] - 2s 2ms/step - loss: 0.0187 - accuracy: 0.9935 - val_loss: 0.0952 - val_accuracy: 0.9727\n",
            "Epoch 65/100\n",
            "642/642 [==============================] - 2s 2ms/step - loss: 0.0242 - accuracy: 0.9901 - val_loss: 0.0745 - val_accuracy: 0.9860\n",
            "Epoch 66/100\n",
            "642/642 [==============================] - 2s 2ms/step - loss: 0.0205 - accuracy: 0.9934 - val_loss: 0.0637 - val_accuracy: 0.9867\n",
            "Epoch 67/100\n",
            "642/642 [==============================] - 2s 2ms/step - loss: 0.0198 - accuracy: 0.9924 - val_loss: 0.0857 - val_accuracy: 0.9822\n",
            "Epoch 68/100\n",
            "642/642 [==============================] - 2s 2ms/step - loss: 0.0261 - accuracy: 0.9904 - val_loss: 0.0642 - val_accuracy: 0.9902\n",
            "Epoch 69/100\n",
            "642/642 [==============================] - 2s 2ms/step - loss: 0.0244 - accuracy: 0.9923 - val_loss: 0.0711 - val_accuracy: 0.9850\n",
            "Epoch 70/100\n",
            "642/642 [==============================] - 2s 2ms/step - loss: 0.0165 - accuracy: 0.9935 - val_loss: 0.0720 - val_accuracy: 0.9906\n",
            "Epoch 71/100\n",
            "642/642 [==============================] - 2s 2ms/step - loss: 0.0204 - accuracy: 0.9928 - val_loss: 0.0702 - val_accuracy: 0.9871\n",
            "Epoch 72/100\n",
            "642/642 [==============================] - 1s 2ms/step - loss: 0.0192 - accuracy: 0.9938 - val_loss: 0.0540 - val_accuracy: 0.9918\n",
            "Epoch 73/100\n",
            "642/642 [==============================] - 2s 3ms/step - loss: 0.0203 - accuracy: 0.9939 - val_loss: 0.0725 - val_accuracy: 0.9885\n",
            "Epoch 74/100\n",
            "642/642 [==============================] - 2s 2ms/step - loss: 0.0236 - accuracy: 0.9914 - val_loss: 0.1442 - val_accuracy: 0.9677\n",
            "Epoch 75/100\n",
            "642/642 [==============================] - 2s 2ms/step - loss: 0.0299 - accuracy: 0.9889 - val_loss: 0.0681 - val_accuracy: 0.9867\n",
            "Epoch 76/100\n",
            "642/642 [==============================] - 2s 2ms/step - loss: 0.0259 - accuracy: 0.9912 - val_loss: 0.0732 - val_accuracy: 0.9848\n",
            "Epoch 77/100\n",
            "642/642 [==============================] - 2s 3ms/step - loss: 0.0193 - accuracy: 0.9926 - val_loss: 0.0651 - val_accuracy: 0.9871\n",
            "Epoch 78/100\n",
            "642/642 [==============================] - 2s 2ms/step - loss: 0.0211 - accuracy: 0.9924 - val_loss: 0.0663 - val_accuracy: 0.9904\n",
            "Epoch 79/100\n",
            "642/642 [==============================] - 2s 2ms/step - loss: 0.0180 - accuracy: 0.9949 - val_loss: 0.0697 - val_accuracy: 0.9832\n",
            "Epoch 80/100\n",
            "642/642 [==============================] - 2s 2ms/step - loss: 0.0207 - accuracy: 0.9924 - val_loss: 0.0933 - val_accuracy: 0.9853\n",
            "Epoch 81/100\n",
            "642/642 [==============================] - 2s 2ms/step - loss: 0.0169 - accuracy: 0.9951 - val_loss: 0.0836 - val_accuracy: 0.9806\n",
            "Epoch 82/100\n",
            "642/642 [==============================] - 2s 2ms/step - loss: 0.0235 - accuracy: 0.9912 - val_loss: 0.0919 - val_accuracy: 0.9846\n",
            "Epoch 83/100\n",
            "642/642 [==============================] - 2s 2ms/step - loss: 0.0219 - accuracy: 0.9918 - val_loss: 0.0879 - val_accuracy: 0.9883\n",
            "Epoch 84/100\n",
            "642/642 [==============================] - 2s 3ms/step - loss: 0.0182 - accuracy: 0.9939 - val_loss: 0.0706 - val_accuracy: 0.9904\n",
            "Epoch 85/100\n",
            "642/642 [==============================] - 2s 2ms/step - loss: 0.0146 - accuracy: 0.9954 - val_loss: 0.0671 - val_accuracy: 0.9909\n",
            "Epoch 86/100\n",
            "642/642 [==============================] - 2s 2ms/step - loss: 0.0258 - accuracy: 0.9910 - val_loss: 0.0710 - val_accuracy: 0.9916\n",
            "Epoch 87/100\n",
            "642/642 [==============================] - 2s 2ms/step - loss: 0.0211 - accuracy: 0.9930 - val_loss: 0.0977 - val_accuracy: 0.9815\n",
            "Epoch 88/100\n",
            "642/642 [==============================] - 2s 2ms/step - loss: 0.0246 - accuracy: 0.9933 - val_loss: 0.0608 - val_accuracy: 0.9883\n",
            "Epoch 89/100\n",
            "642/642 [==============================] - 2s 2ms/step - loss: 0.0129 - accuracy: 0.9957 - val_loss: 0.0656 - val_accuracy: 0.9909\n",
            "Epoch 90/100\n",
            "642/642 [==============================] - 2s 2ms/step - loss: 0.0193 - accuracy: 0.9944 - val_loss: 0.0635 - val_accuracy: 0.9885\n",
            "Epoch 91/100\n",
            "642/642 [==============================] - 2s 2ms/step - loss: 0.0145 - accuracy: 0.9955 - val_loss: 0.0667 - val_accuracy: 0.9911\n",
            "Epoch 92/100\n",
            "642/642 [==============================] - 2s 2ms/step - loss: 0.0136 - accuracy: 0.9953 - val_loss: 0.0731 - val_accuracy: 0.9897\n",
            "Epoch 93/100\n",
            "642/642 [==============================] - 2s 2ms/step - loss: 0.0239 - accuracy: 0.9916 - val_loss: 0.0592 - val_accuracy: 0.9892\n",
            "Epoch 94/100\n",
            "642/642 [==============================] - 2s 2ms/step - loss: 0.0090 - accuracy: 0.9963 - val_loss: 0.0644 - val_accuracy: 0.9902\n",
            "Epoch 95/100\n",
            "642/642 [==============================] - 2s 2ms/step - loss: 0.0204 - accuracy: 0.9936 - val_loss: 0.0708 - val_accuracy: 0.9892\n",
            "Epoch 96/100\n",
            "642/642 [==============================] - 2s 2ms/step - loss: 0.0166 - accuracy: 0.9947 - val_loss: 0.0820 - val_accuracy: 0.9892\n",
            "Epoch 97/100\n",
            "642/642 [==============================] - 2s 2ms/step - loss: 0.0183 - accuracy: 0.9934 - val_loss: 0.0772 - val_accuracy: 0.9867\n",
            "Epoch 98/100\n",
            "642/642 [==============================] - 2s 2ms/step - loss: 0.0201 - accuracy: 0.9937 - val_loss: 0.0817 - val_accuracy: 0.9841\n",
            "Epoch 99/100\n",
            "642/642 [==============================] - 2s 2ms/step - loss: 0.0243 - accuracy: 0.9920 - val_loss: 0.0769 - val_accuracy: 0.9860\n",
            "Epoch 100/100\n",
            "642/642 [==============================] - 2s 2ms/step - loss: 0.0289 - accuracy: 0.9895 - val_loss: 0.0764 - val_accuracy: 0.9906\n"
          ],
          "name": "stdout"
        }
      ]
    },
    {
      "cell_type": "code",
      "metadata": {
        "id": "tzsXI-8g79YW",
        "colab": {
          "base_uri": "https://localhost:8080/",
          "height": 598
        },
        "outputId": "d9c1e82b-9665-4f57-89f4-efa378af15af"
      },
      "source": [
        "import matplotlib.pyplot as plt\n",
        "\n",
        "N = 100\n",
        "plt.style.use(\"ggplot\")\n",
        "plt.figure()\n",
        "plt.plot(np.arange(0, N), H.history[\"accuracy\"], label=\"train_acc\")\n",
        "plt.plot(np.arange(0, N), H.history[\"val_accuracy\"], label=\"val_acc\")\n",
        "plt.title(\"Accuracy on Dataset\")\n",
        "plt.xlabel(\"Epoch #\")\n",
        "plt.ylabel(\"Accuracy\")\n",
        "plt.legend(loc=\"lower left\")\n",
        "\n",
        "plt.style.use(\"ggplot\")\n",
        "plt.figure()\n",
        "plt.plot(np.arange(0, N), H.history[\"loss\"], label=\"loss\")\n",
        "plt.plot(np.arange(0, N), H.history[\"val_loss\"], label=\"val_loss\")\n",
        "plt.title(\"Loss on Dataset\")\n",
        "plt.xlabel(\"Epoch #\")\n",
        "plt.ylabel(\"Accuracy\")\n",
        "plt.legend(loc=\"lower left\")"
      ],
      "execution_count": null,
      "outputs": [
        {
          "output_type": "execute_result",
          "data": {
            "text/plain": [
              "<matplotlib.legend.Legend at 0x7f3d2c568dd0>"
            ]
          },
          "metadata": {
            "tags": []
          },
          "execution_count": 53
        },
        {
          "output_type": "display_data",
          "data": {
            "image/png": "[encoded data removed]",
            "text/plain": [
              "<Figure size 432x288 with 1 Axes>"
            ]
          },
          "metadata": {
            "tags": []
          }
        },
        {
          "output_type": "display_data",
          "data": {
            "image/png": "[encoded data removed]",
            "text/plain": [
              "<Figure size 432x288 with 1 Axes>"
            ]
          },
          "metadata": {
            "tags": []
          }
        }
      ]
    },
    {
      "cell_type": "code",
      "metadata": {
        "colab": {
          "base_uri": "https://localhost:8080/",
          "height": 598
        },
        "id": "z9y6Q_0HXeYi",
        "outputId": "86503304-0c78-4471-b7d4-65df28c5e58b"
      },
      "source": [
        "plt.style.use(\"ggplot\")\n",
        "plt.figure()\n",
        "plt.plot(np.arange(0, N), H_scaled.history[\"accuracy\"], label=\"train_acc\")\n",
        "plt.plot(np.arange(0, N), H_scaled.history[\"val_accuracy\"], label=\"val_acc\")\n",
        "plt.title(\"Accuracy on Dataset\")\n",
        "plt.xlabel(\"Epoch #\")\n",
        "plt.ylabel(\"Accuracy\")\n",
        "plt.legend(loc=\"lower left\")\n",
        "\n",
        "plt.style.use(\"ggplot\")\n",
        "plt.figure()\n",
        "plt.plot(np.arange(0, N), H_scaled.history[\"loss\"], label=\"loss\")\n",
        "plt.plot(np.arange(0, N), H_scaled.history[\"val_loss\"], label=\"val_loss\")\n",
        "plt.title(\"Loss on Dataset\")\n",
        "plt.xlabel(\"Epoch #\")\n",
        "plt.ylabel(\"Accuracy\")\n",
        "plt.legend(loc=\"lower left\")"
      ],
      "execution_count": null,
      "outputs": [
        {
          "output_type": "execute_result",
          "data": {
            "text/plain": [
              "<matplotlib.legend.Legend at 0x7f3d37ba8790>"
            ]
          },
          "metadata": {
            "tags": []
          },
          "execution_count": 54
        },
        {
          "output_type": "display_data",
          "data": {
            "image/png": "[encoded data removed]",
            "text/plain": [
              "<Figure size 432x288 with 1 Axes>"
            ]
          },
          "metadata": {
            "tags": []
          }
        },
        {
          "output_type": "display_data",
          "data": {
            "image/png": "[encoded data removed]",
            "text/plain": [
              "<Figure size 432x288 with 1 Axes>"
            ]
          },
          "metadata": {
            "tags": []
          }
        }
      ]
    }
  ]
}