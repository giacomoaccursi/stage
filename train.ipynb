{
  "nbformat": 4,
  "nbformat_minor": 0,
  "metadata": {
    "colab": {
      "name": "train.ipynb",
      "provenance": [],
      "collapsed_sections": [],
      "authorship_tag": "ABX9TyMVLQFP8yTiHYN4Sfu+q0T6",
      "include_colab_link": true
    },
    "kernelspec": {
      "name": "python3",
      "display_name": "Python 3"
    },
    "language_info": {
      "name": "python"
    }
  },
  "cells": [
    {
      "cell_type": "markdown",
      "metadata": {
        "id": "view-in-github",
        "colab_type": "text"
      },
      "source": [
        "<a href=\"https://colab.research.google.com/github/giacomoaccursi/Tirocinio/blob/main/train.ipynb\" target=\"_parent\"><img src=\"https://colab.research.google.com/assets/colab-badge.svg\" alt=\"Open In Colab\"/></a>"
      ]
    },
    {
      "cell_type": "code",
      "metadata": {
        "colab": {
          "base_uri": "https://localhost:8080/"
        },
        "id": "J5d3DE0nuybj",
        "outputId": "d6326e4f-771a-4fc5-92a8-0267909dd60f"
      },
      "source": [
        "!git clone https://github.com/giacomoaccursi/Tirocinio.git"
      ],
      "execution_count": 1,
      "outputs": [
        {
          "output_type": "stream",
          "text": [
            "Cloning into 'Tirocinio'...\n",
            "remote: Enumerating objects: 16850, done.\u001b[K\n",
            "remote: Counting objects: 100% (16850/16850), done.\u001b[K\n",
            "remote: Compressing objects: 100% (16843/16843), done.\u001b[K\n",
            "remote: Total 16850 (delta 13), reused 16829 (delta 4), pack-reused 0\u001b[K\n",
            "Receiving objects: 100% (16850/16850), 7.14 MiB | 11.00 MiB/s, done.\n",
            "Resolving deltas: 100% (13/13), done.\n"
          ],
          "name": "stdout"
        }
      ]
    },
    {
      "cell_type": "code",
      "metadata": {
        "id": "qIkFKr-2Km0B"
      },
      "source": [
        "import json\n",
        "import numpy as np\n",
        "import pandas as pd"
      ],
      "execution_count": 2,
      "outputs": []
    },
    {
      "cell_type": "code",
      "metadata": {
        "id": "gFryVgFP4j1f"
      },
      "source": [
        "from os import listdir\n",
        "from os.path import isfile, join\n",
        "#lista tutti i file dato un percorso\n",
        "def list_all_files(input_path):\n",
        "  files = [join(input_path, f) for f in listdir(input_path) if isfile(join(input_path, f))]\n",
        "  return list(zip(files, listdir(input_path)))\n",
        "\n",
        "def list_all_in_dir(input_path):\n",
        "  files = [join(input_path, f) for f in listdir(input_path)]\n",
        "  return files"
      ],
      "execution_count": 3,
      "outputs": []
    },
    {
      "cell_type": "code",
      "metadata": {
        "id": "z2SDEqSmK02T"
      },
      "source": [
        "#dati due vettori restituisce la similarità coseno\n",
        "def cosine_sim(a, b): \n",
        "  dot = np.dot(a, b)\n",
        "  normA = np.linalg.norm(a)\n",
        "  normB = np.linalg.norm(b)\n",
        "  if normA == 0 or normB == 0: \n",
        "    return 0\n",
        "  return dot / (normA * normB)\n",
        "  "
      ],
      "execution_count": 4,
      "outputs": []
    },
    {
      "cell_type": "code",
      "metadata": {
        "id": "npZ6VUZHK39U"
      },
      "source": [
        "#estrae i dati dal file json\n",
        "def extract_json_detection(file):\n",
        "  with open(file, 'r') as f:\n",
        "    data = json.load(f)\n",
        "    data = data[\"people\"][0][\"pose_keypoints_2d\"]\n",
        "  return data"
      ],
      "execution_count": 5,
      "outputs": []
    },
    {
      "cell_type": "code",
      "metadata": {
        "id": "w_SLJzi7vGsv"
      },
      "source": [
        "def coordinate_from_data(data): \n",
        "  del data[2:75:3] \n",
        "  new_data = [ [data[i], data[i+1]] for i in range(0, len(data), 2)]\n",
        "  return new_data"
      ],
      "execution_count": 6,
      "outputs": []
    },
    {
      "cell_type": "code",
      "metadata": {
        "id": "k1TPqupKDVTW"
      },
      "source": [
        "def cosine_similarity_with_other_kp(detection):\n",
        "  cos_sim_vector = []\n",
        "  for kp in range(0, 25):\n",
        "    cos_sim_vector.append([cosine_sim(detection[kp], B) for B in detection])\n",
        "  return cos_sim_vector"
      ],
      "execution_count": 7,
      "outputs": []
    },
    {
      "cell_type": "code",
      "metadata": {
        "id": "iVj0mut_K-6P"
      },
      "source": [
        "keypoints = np.arange(0, 25)\n",
        "video_data = []"
      ],
      "execution_count": 8,
      "outputs": []
    },
    {
      "cell_type": "code",
      "metadata": {
        "id": "YiD9xTJygIVy",
        "colab": {
          "base_uri": "https://localhost:8080/"
        },
        "outputId": "2ab06bcd-0e2b-4824-dea5-77d412b5ec88"
      },
      "source": [
        "outputs = sorted(list_all_in_dir(\"/content/Tirocinio/video_output\"))\n",
        "for output in outputs:\n",
        "  print(output)\n",
        "  files = sorted(list_all_files(output))\n",
        "  vec = []\n",
        "  for file in files[:100]:\n",
        "    data = coordinate_from_data(extract_json_detection(file[0]))\n",
        "    vec.append(cosine_similarity_with_other_kp(data))\n",
        "  video_data.append(vec)"
      ],
      "execution_count": 9,
      "outputs": [
        {
          "output_type": "stream",
          "text": [
            "/content/Tirocinio/video_output/video_01_0\n",
            "/content/Tirocinio/video_output/video_02_0\n",
            "/content/Tirocinio/video_output/video_03_0\n",
            "/content/Tirocinio/video_output/video_04_0\n",
            "/content/Tirocinio/video_output/video_05_0\n",
            "/content/Tirocinio/video_output/video_06_0\n",
            "/content/Tirocinio/video_output/video_07_0\n",
            "/content/Tirocinio/video_output/video_08_0\n",
            "/content/Tirocinio/video_output/video_09_0\n",
            "/content/Tirocinio/video_output/video_10_0\n",
            "/content/Tirocinio/video_output/video_11_0\n",
            "/content/Tirocinio/video_output/video_12_0\n",
            "/content/Tirocinio/video_output/video_13_0\n",
            "/content/Tirocinio/video_output/video_14_0\n",
            "/content/Tirocinio/video_output/video_15_0\n",
            "/content/Tirocinio/video_output/video_16_0\n",
            "/content/Tirocinio/video_output/video_17_0\n",
            "/content/Tirocinio/video_output/video_18_0\n",
            "/content/Tirocinio/video_output/video_19_0\n",
            "/content/Tirocinio/video_output/video_20_0\n",
            "/content/Tirocinio/video_output/video_21_0\n",
            "/content/Tirocinio/video_output/video_22_0\n",
            "/content/Tirocinio/video_output/video_23_0\n",
            "/content/Tirocinio/video_output/video_24_1\n",
            "/content/Tirocinio/video_output/video_25_1\n",
            "/content/Tirocinio/video_output/video_26_1\n",
            "/content/Tirocinio/video_output/video_27_1\n",
            "/content/Tirocinio/video_output/video_28_1\n",
            "/content/Tirocinio/video_output/video_29_1\n",
            "/content/Tirocinio/video_output/video_30_1\n",
            "/content/Tirocinio/video_output/video_31_1\n",
            "/content/Tirocinio/video_output/video_32_1\n",
            "/content/Tirocinio/video_output/video_33_1\n",
            "/content/Tirocinio/video_output/video_34_1\n",
            "/content/Tirocinio/video_output/video_35_1\n",
            "/content/Tirocinio/video_output/video_36_1\n",
            "/content/Tirocinio/video_output/video_37_1\n",
            "/content/Tirocinio/video_output/video_38_1\n",
            "/content/Tirocinio/video_output/video_39_1\n",
            "/content/Tirocinio/video_output/video_40_1\n",
            "/content/Tirocinio/video_output/video_41_1\n",
            "/content/Tirocinio/video_output/video_42_1\n",
            "/content/Tirocinio/video_output/video_43_1\n",
            "/content/Tirocinio/video_output/video_44_0\n",
            "/content/Tirocinio/video_output/video_45_0\n",
            "/content/Tirocinio/video_output/video_46_0\n",
            "/content/Tirocinio/video_output/video_47_0\n",
            "/content/Tirocinio/video_output/video_48_0\n",
            "/content/Tirocinio/video_output/video_49_0\n",
            "/content/Tirocinio/video_output/video_50_0\n",
            "/content/Tirocinio/video_output/video_51_0\n",
            "/content/Tirocinio/video_output/video_52_0\n",
            "/content/Tirocinio/video_output/video_53_0\n",
            "/content/Tirocinio/video_output/video_54_0\n",
            "/content/Tirocinio/video_output/video_55_0\n",
            "/content/Tirocinio/video_output/video_56_0\n",
            "/content/Tirocinio/video_output/video_57_0\n",
            "/content/Tirocinio/video_output/video_58_0\n",
            "/content/Tirocinio/video_output/video_59_0\n",
            "/content/Tirocinio/video_output/video_60_0\n",
            "/content/Tirocinio/video_output/video_61_0\n",
            "/content/Tirocinio/video_output/video_62_0\n",
            "/content/Tirocinio/video_output/video_63_0\n",
            "/content/Tirocinio/video_output/video_64_0\n",
            "/content/Tirocinio/video_output/video_65_0\n",
            "/content/Tirocinio/video_output/video_66_0\n",
            "/content/Tirocinio/video_output/video_67_0\n",
            "/content/Tirocinio/video_output/video_68_0\n",
            "/content/Tirocinio/video_output/video_69_0\n",
            "/content/Tirocinio/video_output/video_70_0\n",
            "/content/Tirocinio/video_output/video_71_0\n",
            "/content/Tirocinio/video_output/video_72_0\n",
            "/content/Tirocinio/video_output/video_73_0\n",
            "/content/Tirocinio/video_output/video_74_1\n",
            "/content/Tirocinio/video_output/video_75_1\n",
            "/content/Tirocinio/video_output/video_76_1\n",
            "/content/Tirocinio/video_output/video_77_1\n",
            "/content/Tirocinio/video_output/video_78_1\n",
            "/content/Tirocinio/video_output/video_79_1\n",
            "/content/Tirocinio/video_output/video_80_1\n",
            "/content/Tirocinio/video_output/video_81_1\n",
            "/content/Tirocinio/video_output/video_82_1\n",
            "/content/Tirocinio/video_output/video_83_1\n",
            "/content/Tirocinio/video_output/video_84_1\n",
            "/content/Tirocinio/video_output/video_85_1\n",
            "/content/Tirocinio/video_output/video_86_1\n",
            "/content/Tirocinio/video_output/video_87_1\n",
            "/content/Tirocinio/video_output/video_88_1\n",
            "/content/Tirocinio/video_output/video_89_1\n"
          ],
          "name": "stdout"
        }
      ]
    },
    {
      "cell_type": "code",
      "metadata": {
        "id": "Cj4K3g4Sz4wU"
      },
      "source": [
        "labels = []\n",
        "for output in outputs: \n",
        "  labels.append(output.split(\"_\")[-1])"
      ],
      "execution_count": 10,
      "outputs": []
    },
    {
      "cell_type": "code",
      "metadata": {
        "id": "oZFuqZSKZ7Hr"
      },
      "source": [
        "labels = np.array(labels)"
      ],
      "execution_count": 11,
      "outputs": []
    },
    {
      "cell_type": "code",
      "metadata": {
        "id": "muwnGoxt0E7z"
      },
      "source": [
        "video_data = np.array(video_data)"
      ],
      "execution_count": 12,
      "outputs": []
    },
    {
      "cell_type": "code",
      "metadata": {
        "id": "4xtjsdiB-j7z"
      },
      "source": [
        "from tensorflow.keras.utils import to_categorical\n",
        "labels = to_categorical(labels)"
      ],
      "execution_count": 13,
      "outputs": []
    },
    {
      "cell_type": "code",
      "metadata": {
        "id": "uqhxZb630GyH"
      },
      "source": [
        "from sklearn.model_selection import train_test_split\n",
        "\n",
        "(X_train, X_test, y_train, y_test) = train_test_split(video_data, labels,\n",
        "\ttest_size=0.25, stratify=labels, random_state=42)"
      ],
      "execution_count": 14,
      "outputs": []
    },
    {
      "cell_type": "code",
      "metadata": {
        "id": "pIBfTFEH0JkT"
      },
      "source": [
        "from tensorflow.keras.models import Sequential\n",
        "from tensorflow.keras.layers import Dense, Flatten, Conv1D\n",
        "\n",
        "model = Sequential([\n",
        "                    Conv1D(16, 15, input_shape=(X_train.shape[1], X_train.shape[2], X_train.shape[3])), \n",
        "                    Flatten(), \n",
        "                    Dense(128, activation = \"relu\"), \n",
        "                    Dense(128, activation = \"relu\"), \n",
        "                    Dense(128, activation = \"relu\"), \n",
        "                    Dense(y_train.shape[1], activation = \"softmax\")\n",
        "])"
      ],
      "execution_count": 15,
      "outputs": []
    },
    {
      "cell_type": "code",
      "metadata": {
        "id": "6lftQiXU0Lz2"
      },
      "source": [
        "model.compile(loss=\"categorical_crossentropy\", optimizer=\"adam\", metrics=[\"accuracy\"])"
      ],
      "execution_count": 16,
      "outputs": []
    },
    {
      "cell_type": "code",
      "metadata": {
        "id": "aEkGdxsM0Oa5",
        "colab": {
          "base_uri": "https://localhost:8080/"
        },
        "outputId": "247ab803-0ec1-42eb-b43e-1201fd2553af"
      },
      "source": [
        "history = model.fit(X_train, y_train, epochs=15, batch_size=20, validation_data=(X_test, y_test))"
      ],
      "execution_count": 17,
      "outputs": [
        {
          "output_type": "stream",
          "text": [
            "Epoch 1/15\n",
            "4/4 [==============================] - 2s 239ms/step - loss: 3.6218 - accuracy: 0.7106 - val_loss: 1.2748 - val_accuracy: 0.6087\n",
            "Epoch 2/15\n",
            "4/4 [==============================] - 0s 79ms/step - loss: 0.9465 - accuracy: 0.6753 - val_loss: 0.1600 - val_accuracy: 1.0000\n",
            "Epoch 3/15\n",
            "4/4 [==============================] - 0s 73ms/step - loss: 0.2127 - accuracy: 0.8936 - val_loss: 0.0171 - val_accuracy: 1.0000\n",
            "Epoch 4/15\n",
            "4/4 [==============================] - 0s 78ms/step - loss: 0.5784 - accuracy: 0.9198 - val_loss: 2.8920 - val_accuracy: 0.6087\n",
            "Epoch 5/15\n",
            "4/4 [==============================] - 0s 78ms/step - loss: 1.8478 - accuracy: 0.7661 - val_loss: 0.5622 - val_accuracy: 0.7826\n",
            "Epoch 6/15\n",
            "4/4 [==============================] - 0s 73ms/step - loss: 0.1927 - accuracy: 0.9080 - val_loss: 0.0189 - val_accuracy: 1.0000\n",
            "Epoch 7/15\n",
            "4/4 [==============================] - 0s 71ms/step - loss: 0.0369 - accuracy: 0.9856 - val_loss: 0.0012 - val_accuracy: 1.0000\n",
            "Epoch 8/15\n",
            "4/4 [==============================] - 0s 77ms/step - loss: 0.0728 - accuracy: 0.9756 - val_loss: 0.0681 - val_accuracy: 0.9565\n",
            "Epoch 9/15\n",
            "4/4 [==============================] - 0s 75ms/step - loss: 0.0050 - accuracy: 1.0000 - val_loss: 0.0056 - val_accuracy: 1.0000\n",
            "Epoch 10/15\n",
            "4/4 [==============================] - 0s 76ms/step - loss: 0.0202 - accuracy: 0.9856 - val_loss: 0.2426 - val_accuracy: 0.8696\n",
            "Epoch 11/15\n",
            "4/4 [==============================] - 0s 76ms/step - loss: 0.0355 - accuracy: 0.9756 - val_loss: 0.0016 - val_accuracy: 1.0000\n",
            "Epoch 12/15\n",
            "4/4 [==============================] - 0s 76ms/step - loss: 0.0342 - accuracy: 0.9856 - val_loss: 0.0447 - val_accuracy: 0.9565\n",
            "Epoch 13/15\n",
            "4/4 [==============================] - 0s 72ms/step - loss: 0.0165 - accuracy: 0.9879 - val_loss: 5.2269e-04 - val_accuracy: 1.0000\n",
            "Epoch 14/15\n",
            "4/4 [==============================] - 0s 74ms/step - loss: 0.2469 - accuracy: 0.9136 - val_loss: 1.9902e-06 - val_accuracy: 1.0000\n",
            "Epoch 15/15\n",
            "4/4 [==============================] - 0s 72ms/step - loss: 2.5456e-04 - accuracy: 1.0000 - val_loss: 1.6271e-04 - val_accuracy: 1.0000\n"
          ],
          "name": "stdout"
        }
      ]
    },
    {
      "cell_type": "code",
      "metadata": {
        "colab": {
          "base_uri": "https://localhost:8080/",
          "height": 300
        },
        "id": "37NAfopx_jj1",
        "outputId": "2a9ae96a-a97a-41a2-dc9a-ab52119d02b5"
      },
      "source": [
        "import matplotlib.pyplot as plt\n",
        " \n",
        "plt.plot(history.history['accuracy'], label='accuracy')\n",
        "plt.plot(history.history['val_accuracy'], label = 'val_accuracy')\n",
        "plt.xlabel('Epoch')\n",
        "plt.ylabel('Accuracy')\n",
        "plt.ylim([0.5, 1])\n",
        "plt.legend(loc='lower right')"
      ],
      "execution_count": 18,
      "outputs": [
        {
          "output_type": "execute_result",
          "data": {
            "text/plain": [
              "<matplotlib.legend.Legend at 0x7ff6c0c604d0>"
            ]
          },
          "metadata": {
            "tags": []
          },
          "execution_count": 18
        },
        {
          "output_type": "display_data",
          "data": {
            "image/png": "[encoded data removed]",
            "text/plain": [
              "<Figure size 432x288 with 1 Axes>"
            ]
          },
          "metadata": {
            "tags": [],
            "needs_background": "light"
          }
        }
      ]
    },
    {
      "cell_type": "code",
      "metadata": {
        "id": "faVXfiUS_k34"
      },
      "source": [
        "y_pred = model.predict(X_test)\n",
        "y_pred = [np.argmax(i) for i in y_pred]\n",
        "y_real = [np.argmax(i) for i in y_test]"
      ],
      "execution_count": 19,
      "outputs": []
    },
    {
      "cell_type": "code",
      "metadata": {
        "colab": {
          "base_uri": "https://localhost:8080/"
        },
        "id": "T7YfAjz8GZeu",
        "outputId": "04b2192c-22da-45cf-a70b-ffb8b37da9a2"
      },
      "source": [
        "from sklearn.metrics import confusion_matrix, f1_score, classification_report\n",
        "confusion_matrix(y_real, y_pred)"
      ],
      "execution_count": 20,
      "outputs": [
        {
          "output_type": "execute_result",
          "data": {
            "text/plain": [
              "array([[14,  0],\n",
              "       [ 0,  9]])"
            ]
          },
          "metadata": {
            "tags": []
          },
          "execution_count": 20
        }
      ]
    },
    {
      "cell_type": "code",
      "metadata": {
        "colab": {
          "base_uri": "https://localhost:8080/"
        },
        "id": "qDmeK7Q_GkDP",
        "outputId": "0934a987-afb2-40ff-fe30-f09e72abc8af"
      },
      "source": [
        "print(classification_report(y_real, y_pred))"
      ],
      "execution_count": 21,
      "outputs": [
        {
          "output_type": "stream",
          "text": [
            "              precision    recall  f1-score   support\n",
            "\n",
            "           0       1.00      1.00      1.00        14\n",
            "           1       1.00      1.00      1.00         9\n",
            "\n",
            "    accuracy                           1.00        23\n",
            "   macro avg       1.00      1.00      1.00        23\n",
            "weighted avg       1.00      1.00      1.00        23\n",
            "\n"
          ],
          "name": "stdout"
        }
      ]
    },
    {
      "cell_type": "code",
      "metadata": {
        "colab": {
          "base_uri": "https://localhost:8080/"
        },
        "id": "m43wwpC3TWqO",
        "outputId": "7d990f9f-1a1f-4522-d5b5-0d9f46c2eac2"
      },
      "source": [
        "model.predict(np.expand_dims(X_test[0], axis=0))"
      ],
      "execution_count": 42,
      "outputs": [
        {
          "output_type": "execute_result",
          "data": {
            "text/plain": [
              "array([[1.0000000e+00, 1.5231591e-10]], dtype=float32)"
            ]
          },
          "metadata": {
            "tags": []
          },
          "execution_count": 42
        }
      ]
    },
    {
      "cell_type": "code",
      "metadata": {
        "id": "6VZGvrRlU1VX"
      },
      "source": [
        ""
      ],
      "execution_count": null,
      "outputs": []
    }
  ]
}